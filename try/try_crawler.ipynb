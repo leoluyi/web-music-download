{
 "cells": [
  {
   "cell_type": "code",
   "execution_count": 1,
   "metadata": {
    "ExecuteTime": {
     "end_time": "2017-08-03T23:56:02.131766Z",
     "start_time": "2017-08-03T23:55:58.283231Z"
    }
   },
   "outputs": [],
   "source": [
    "import requests\n",
    "from bs4 import BeautifulSoup\n",
    "import regex as re\n",
    "import youtube_dl\n",
    "import urllib"
   ]
  },
  {
   "cell_type": "code",
   "execution_count": 2,
   "metadata": {
    "ExecuteTime": {
     "end_time": "2017-08-03T23:56:02.803500Z",
     "start_time": "2017-08-03T23:56:02.135663Z"
    }
   },
   "outputs": [],
   "source": [
    "res = requests.get('https://www.youtube.com/results?search_query=john+mayer')"
   ]
  },
  {
   "cell_type": "code",
   "execution_count": 31,
   "metadata": {
    "ExecuteTime": {
     "end_time": "2017-08-04T00:09:19.631699Z",
     "start_time": "2017-08-04T00:09:18.261721Z"
    }
   },
   "outputs": [],
   "source": [
    "soup = BeautifulSoup(res.content, 'lxml')"
   ]
  },
  {
   "cell_type": "markdown",
   "metadata": {},
   "source": [
    "## try one"
   ]
  },
  {
   "cell_type": "code",
   "execution_count": 59,
   "metadata": {
    "ExecuteTime": {
     "end_time": "2017-08-04T00:37:17.443412Z",
     "start_time": "2017-08-04T00:37:17.413197Z"
    },
    "scrolled": true
   },
   "outputs": [
    {
     "name": "stdout",
     "output_type": "stream",
     "text": [
      "<a aria-describedby=\"description-id-664339\" class=\"yt-uix-tile-link yt-ui-ellipsis yt-ui-ellipsis-2 yt-uix-sessionlink spf-link \" data-sessionlink=\"itct=CGIQ3DAYASITCIaN4da2u9UCFUVZKgoduyUDnij0JFIKam9obiBtYXllcg\" dir=\"ltr\" href=\"/watch?v=_oNIwG2zTRo\" rel=\"spf-prefetch\" title=\"John Mayer Greatest Hits   Collection HD HQ\">John Mayer Greatest Hits   Collection HD HQ</a>\n"
     ]
    },
    {
     "data": {
      "text/plain": [
       "<img alt=\"\" data-ytimg=\"1\" height=\"138\" onload=\";window.__ytRIL &amp;&amp; __ytRIL(this)\" src=\"https://i.ytimg.com/vi/_oNIwG2zTRo/hqdefault.jpg?sqp=-oaymwEXCPYBEIoBSFryq4qpAwkIARUAAIhCGAE=&amp;rs=AOn4CLANTlPQ4m04T1HU5JSrWznVviHU9Q\" width=\"246\"/>"
      ]
     },
     "execution_count": 59,
     "metadata": {},
     "output_type": "execute_result"
    }
   ],
   "source": [
    "node = soup.select_one('.yt-lockup-video .yt-ui-ellipsis-2.spf-link')\n",
    "print(node)\n",
    "\n",
    "# img\n",
    "soup.select_one('li > div.yt-lockup .contains-addto img')"
   ]
  },
  {
   "cell_type": "markdown",
   "metadata": {},
   "source": [
    "---"
   ]
  },
  {
   "cell_type": "code",
   "execution_count": 32,
   "metadata": {
    "ExecuteTime": {
     "end_time": "2017-08-04T00:19:40.755486Z",
     "start_time": "2017-08-04T00:19:40.664355Z"
    }
   },
   "outputs": [],
   "source": [
    "# print(str(soup))\n",
    "with open('/Users/leoluyi/temp.html', 'w') as f:\n",
    "    f.write(str(soup))"
   ]
  },
  {
   "cell_type": "markdown",
   "metadata": {},
   "source": [
    "---"
   ]
  },
  {
   "cell_type": "markdown",
   "metadata": {},
   "source": [
    "## try get all video"
   ]
  },
  {
   "cell_type": "code",
   "execution_count": 60,
   "metadata": {
    "ExecuteTime": {
     "end_time": "2017-08-04T00:39:54.114019Z",
     "start_time": "2017-08-04T00:39:54.074191Z"
    },
    "scrolled": true
   },
   "outputs": [
    {
     "name": "stdout",
     "output_type": "stream",
     "text": [
      "n titles: 17\n",
      "0 https://i.ytimg.com/vi/_oNIwG2zTRo/hqdefault.jpg?sqp=-oaymwEXCPYBEIoBSFryq4qpAwkIARUAAIhCGAE=&rs=AOn4CLANTlPQ4m04T1HU5JSrWznVviHU9Q\n",
      "1 https://i.ytimg.com/vi/NyCst7We6Uw/hqdefault.jpg?sqp=-oaymwEXCPYBEIoBSFryq4qpAwkIARUAAIhCGAE=&rs=AOn4CLDfw37e59EYuOzNZoCraCzcHNnawQ\n",
      "2 https://i.ytimg.com/vi/lm1hKAJBY18/hqdefault.jpg?sqp=-oaymwEXCPYBEIoBSFryq4qpAwkIARUAAIhCGAE=&rs=AOn4CLB4-egqfvtsba7eH4xN0UaW3E1Mkg\n",
      "3 https://i.ytimg.com/vi/Np7A1bT3lrg/hqdefault.jpg?sqp=-oaymwEXCPYBEIoBSFryq4qpAwkIARUAAIhCGAE=&rs=AOn4CLDQczE0IYO043pcXA9Bljs_M5eP4w\n",
      "4 https://i.ytimg.com/vi/Z0wBrJHd9-A/hqdefault.jpg?sqp=-oaymwEXCPYBEIoBSFryq4qpAwkIARUAAIhCGAE=&rs=AOn4CLClkn8fySuZjOk9BhCziG_gPP2zNA\n",
      "5 https://i.ytimg.com/vi/20Ov0cDPZy8/hqdefault.jpg?sqp=-oaymwEXCPYBEIoBSFryq4qpAwkIARUAAIhCGAE=&rs=AOn4CLDpqjOLgWf-vZjM9hi8SF29KGuAYw\n",
      "6 https://i.ytimg.com/vi/08Ndzf5-HxI/hqdefault.jpg?sqp=-oaymwEXCPYBEIoBSFryq4qpAwkIARUAAIhCGAE=&rs=AOn4CLCD3Bbz_9gcUELvOQC8ArByVP0KZw\n",
      "7 https://i.ytimg.com/vi/ncijv1WCnVk/hqdefault.jpg?sqp=-oaymwEXCPYBEIoBSFryq4qpAwkIARUAAIhCGAE=&rs=AOn4CLB_iCzm9FxMbmm-tiSHK4xPmA-5ew\n",
      "8 https://i.ytimg.com/vi/Fo4746XZgw8/hqdefault.jpg?sqp=-oaymwEXCPYBEIoBSFryq4qpAwkIARUAAIhCGAE=&rs=AOn4CLBiFCQovd6MDFvFtIEoA5_sjoje2w\n",
      "9 https://i.ytimg.com/vi/ngzFRAWIsNc/hqdefault.jpg?sqp=-oaymwEXCPYBEIoBSFryq4qpAwkIARUAAIhCGAE=&rs=AOn4CLD3HZW8mZZriRiAoLg2O6zGzvCXyg\n",
      "10 https://i.ytimg.com/vi/izkqPdVAdL4/hqdefault.jpg?sqp=-oaymwEXCPYBEIoBSFryq4qpAwkIARUAAIhCGAE=&rs=AOn4CLBr22by3UCeCdzcNzielftGipXYFw\n",
      "11 https://i.ytimg.com/vi/SmYa7pYHU00/hqdefault.jpg?sqp=-oaymwEXCPYBEIoBSFryq4qpAwkIARUAAIhCGAE=&rs=AOn4CLBWnB3NYt6VfXtrNRJqbYJ7yLzJEQ\n",
      "12 https://i.ytimg.com/vi/ZzqLtnBc1dg/hqdefault.jpg?sqp=-oaymwEXCPYBEIoBSFryq4qpAwkIARUAAIhCGAE=&rs=AOn4CLDPMCTpCOWvamMtH-5GzDtpSx9Abg\n",
      "13 https://i.ytimg.com/vi/96pDYEp9QIA/hqdefault.jpg?sqp=-oaymwEXCPYBEIoBSFryq4qpAwkIARUAAIhCGAE=&rs=AOn4CLCjY4ADEsQms6G2p2NtRSNRvdbXNQ\n",
      "14 https://i.ytimg.com/vi/ob-jS7bqYgI/hqdefault.jpg?sqp=-oaymwEXCPYBEIoBSFryq4qpAwkIARUAAIhCGAE=&rs=AOn4CLCRiy_yRcWnq_HJebJoYTCHcmmrlw\n",
      "15 https://i.ytimg.com/vi/NLDjw4M_578/hqdefault.jpg?sqp=-oaymwEXCPYBEIoBSFryq4qpAwkIARUAAIhCGAE=&rs=AOn4CLCr-7XCly2G6rVwXV18hGtSasI8mQ\n",
      "16 https://i.ytimg.com/vi/UY7FpJbODvE/hqdefault.jpg?sqp=-oaymwEXCPYBEIoBSFryq4qpAwkIARUAAIhCGAE=&rs=AOn4CLAM2rrCVHEc1Op2n2U8UgFTxHsg-A\n"
     ]
    }
   ],
   "source": [
    "titles = soup.select('.yt-lockup-video .yt-ui-ellipsis-2.spf-link'); print('n titles:', len(titles))\n",
    "\n",
    "imgs = soup.select('li > div.yt-lockup .contains-addto img')\n",
    "img1 = imgs[1]\n",
    "# print(img1.attrs.get('data-thumb'))\n",
    "\n",
    "for _, img in enumerate(imgs):\n",
    "    img_url = img.attrs.get('data-thumb') or img['src']\n",
    "    print(_, img_url)"
   ]
  },
  {
   "cell_type": "code",
   "execution_count": 45,
   "metadata": {
    "ExecuteTime": {
     "end_time": "2017-08-04T00:23:06.523419Z",
     "start_time": "2017-08-04T00:23:06.485363Z"
    }
   },
   "outputs": [
    {
     "name": "stdout",
     "output_type": "stream",
     "text": [
      "# results: 18\n",
      "0 10:18\n",
      "1 1:37:19\n",
      "2 4:11\n",
      "3 1:22:28\n",
      "4 4:03\n",
      "5 4:24\n",
      "6 4:03\n",
      "7 3:11\n",
      "8 6:20\n",
      "9 9:44\n",
      "10 43:26\n",
      "11 3:25\n",
      "12 3:59\n",
      "13 3:34\n",
      "14 4:15\n",
      "15 4:06\n",
      "16 5:48\n",
      "17 6:54\n"
     ]
    }
   ],
   "source": [
    "length = soup.select('.video-time')\n",
    "print('# results:', len(length))\n",
    "for _, e in enumerate(length):\n",
    "    print(_, e.text)"
   ]
  },
  {
   "cell_type": "code",
   "execution_count": 47,
   "metadata": {
    "ExecuteTime": {
     "end_time": "2017-08-04T00:23:31.810911Z",
     "start_time": "2017-08-04T00:23:31.803355Z"
    }
   },
   "outputs": [],
   "source": [
    "l = [{\n",
    "    'title': el['title'],\n",
    "    'link': el['href']}\n",
    "    for el in titles]"
   ]
  },
  {
   "cell_type": "code",
   "execution_count": 66,
   "metadata": {
    "ExecuteTime": {
     "end_time": "2017-08-04T00:44:24.199948Z",
     "start_time": "2017-08-04T00:44:24.174192Z"
    },
    "scrolled": true
   },
   "outputs": [
    {
     "name": "stdout",
     "output_type": "stream",
     "text": [
      "17\n"
     ]
    },
    {
     "data": {
      "text/plain": [
       "[{'img': 'https://i.ytimg.com/vi/_oNIwG2zTRo/hqdefault.jpg?sqp=-oaymwEXCPYBEIoBSFryq4qpAwkIARUAAIhCGAE=&rs=AOn4CLANTlPQ4m04T1HU5JSrWznVviHU9Q',\n",
       "  'length': '10:18',\n",
       "  'link': '/watch?v=_oNIwG2zTRo',\n",
       "  'title': 'John Mayer Greatest Hits   Collection HD HQ'},\n",
       " {'img': 'https://i.ytimg.com/vi/NyCst7We6Uw/hqdefault.jpg?sqp=-oaymwEXCPYBEIoBSFryq4qpAwkIARUAAIhCGAE=&rs=AOn4CLDfw37e59EYuOzNZoCraCzcHNnawQ',\n",
       "  'length': '1:37:19',\n",
       "  'link': '/watch?v=NyCst7We6Uw',\n",
       "  'title': 'John Mayer - Still Feel Like Your Man'},\n",
       " {'img': 'https://i.ytimg.com/vi/lm1hKAJBY18/hqdefault.jpg?sqp=-oaymwEXCPYBEIoBSFryq4qpAwkIARUAAIhCGAE=&rs=AOn4CLB4-egqfvtsba7eH4xN0UaW3E1Mkg',\n",
       "  'length': '4:11',\n",
       "  'link': '/watch?v=lm1hKAJBY18',\n",
       "  'title': 'Bud Light Dive Bar Tour with John Mayer - Los Angeles - July 26th, 2017'},\n",
       " {'img': 'https://i.ytimg.com/vi/Np7A1bT3lrg/hqdefault.jpg?sqp=-oaymwEXCPYBEIoBSFryq4qpAwkIARUAAIhCGAE=&rs=AOn4CLDQczE0IYO043pcXA9Bljs_M5eP4w',\n",
       "  'length': '1:22:28',\n",
       "  'link': '/watch?v=Np7A1bT3lrg',\n",
       "  'title': 'John Mayer - Rosie (Audio)'},\n",
       " {'img': 'https://i.ytimg.com/vi/Z0wBrJHd9-A/hqdefault.jpg?sqp=-oaymwEXCPYBEIoBSFryq4qpAwkIARUAAIhCGAE=&rs=AOn4CLClkn8fySuZjOk9BhCziG_gPP2zNA',\n",
       "  'length': '4:03',\n",
       "  'link': '/watch?v=Z0wBrJHd9-A',\n",
       "  'title': 'John Mayer - Moving On and Getting Over (Audio)'},\n",
       " {'img': 'https://i.ytimg.com/vi/20Ov0cDPZy8/hqdefault.jpg?sqp=-oaymwEXCPYBEIoBSFryq4qpAwkIARUAAIhCGAE=&rs=AOn4CLDpqjOLgWf-vZjM9hi8SF29KGuAYw',\n",
       "  'length': '4:24',\n",
       "  'link': '/watch?v=20Ov0cDPZy8',\n",
       "  'title': \"John Mayer - Free Fallin' (Live at the Nokia Theatre)\"},\n",
       " {'img': 'https://i.ytimg.com/vi/08Ndzf5-HxI/hqdefault.jpg?sqp=-oaymwEXCPYBEIoBSFryq4qpAwkIARUAAIhCGAE=&rs=AOn4CLCD3Bbz_9gcUELvOQC8ArByVP0KZw',\n",
       "  'length': '4:03',\n",
       "  'link': '/watch?v=08Ndzf5-HxI',\n",
       "  'title': \"John Mayer - You're Gonna Live Forever in Me (Audio)\"},\n",
       " {'img': 'https://i.ytimg.com/vi/ncijv1WCnVk/hqdefault.jpg?sqp=-oaymwEXCPYBEIoBSFryq4qpAwkIARUAAIhCGAE=&rs=AOn4CLB_iCzm9FxMbmm-tiSHK4xPmA-5ew',\n",
       "  'length': '3:11',\n",
       "  'link': '/watch?v=ncijv1WCnVk',\n",
       "  'title': 'John Mayer - Slow Dancing In A Burning Room [HD]'},\n",
       " {'img': 'https://i.ytimg.com/vi/Fo4746XZgw8/hqdefault.jpg?sqp=-oaymwEXCPYBEIoBSFryq4qpAwkIARUAAIhCGAE=&rs=AOn4CLBiFCQovd6MDFvFtIEoA5_sjoje2w',\n",
       "  'length': '6:20',\n",
       "  'link': '/watch?v=Fo4746XZgw8',\n",
       "  'title': 'John Mayer - Gravity [HD]'},\n",
       " {'img': 'https://i.ytimg.com/vi/ngzFRAWIsNc/hqdefault.jpg?sqp=-oaymwEXCPYBEIoBSFryq4qpAwkIARUAAIhCGAE=&rs=AOn4CLD3HZW8mZZriRiAoLg2O6zGzvCXyg',\n",
       "  'length': '9:44',\n",
       "  'link': '/watch?v=ngzFRAWIsNc',\n",
       "  'title': 'John Mayer - The Search For Everything (Full Album)'},\n",
       " {'img': 'https://i.ytimg.com/vi/izkqPdVAdL4/hqdefault.jpg?sqp=-oaymwEXCPYBEIoBSFryq4qpAwkIARUAAIhCGAE=&rs=AOn4CLBr22by3UCeCdzcNzielftGipXYFw',\n",
       "  'length': '43:26',\n",
       "  'link': '/watch?v=izkqPdVAdL4',\n",
       "  'title': 'John Mayer - Something Like Olivia'},\n",
       " {'img': 'https://i.ytimg.com/vi/SmYa7pYHU00/hqdefault.jpg?sqp=-oaymwEXCPYBEIoBSFryq4qpAwkIARUAAIhCGAE=&rs=AOn4CLBWnB3NYt6VfXtrNRJqbYJ7yLzJEQ',\n",
       "  'length': '3:25',\n",
       "  'link': '/watch?v=SmYa7pYHU00',\n",
       "  'title': 'John Mayer - Still Feel Like Your Man (Audio)'},\n",
       " {'img': 'https://i.ytimg.com/vi/ZzqLtnBc1dg/hqdefault.jpg?sqp=-oaymwEXCPYBEIoBSFryq4qpAwkIARUAAIhCGAE=&rs=AOn4CLDPMCTpCOWvamMtH-5GzDtpSx9Abg',\n",
       "  'length': '3:59',\n",
       "  'link': '/watch?v=ZzqLtnBc1dg',\n",
       "  'title': 'John Mayer - Love on the Weekend (Audio)'},\n",
       " {'img': 'https://i.ytimg.com/vi/96pDYEp9QIA/hqdefault.jpg?sqp=-oaymwEXCPYBEIoBSFryq4qpAwkIARUAAIhCGAE=&rs=AOn4CLCjY4ADEsQms6G2p2NtRSNRvdbXNQ',\n",
       "  'length': '3:34',\n",
       "  'link': '/watch?v=96pDYEp9QIA',\n",
       "  'title': \"John Mayer Performs 'Moving On and Getting Over'!\"},\n",
       " {'img': 'https://i.ytimg.com/vi/ob-jS7bqYgI/hqdefault.jpg?sqp=-oaymwEXCPYBEIoBSFryq4qpAwkIARUAAIhCGAE=&rs=AOn4CLCRiy_yRcWnq_HJebJoYTCHcmmrlw',\n",
       "  'length': '4:15',\n",
       "  'link': '/watch?v=ob-jS7bqYgI',\n",
       "  'title': 'John Mayer - In the Blood (Audio)'},\n",
       " {'img': 'https://i.ytimg.com/vi/NLDjw4M_578/hqdefault.jpg?sqp=-oaymwEXCPYBEIoBSFryq4qpAwkIARUAAIhCGAE=&rs=AOn4CLCr-7XCly2G6rVwXV18hGtSasI8mQ',\n",
       "  'length': '4:06',\n",
       "  'link': '/watch?v=NLDjw4M_578',\n",
       "  'title': 'John Mayer - Neon (legendado) [Live in LA]'},\n",
       " {'img': 'https://i.ytimg.com/vi/UY7FpJbODvE/hqdefault.jpg?sqp=-oaymwEXCPYBEIoBSFryq4qpAwkIARUAAIhCGAE=&rs=AOn4CLAM2rrCVHEc1Op2n2U8UgFTxHsg-A',\n",
       "  'length': '5:48',\n",
       "  'link': '/watch?v=UY7FpJbODvE',\n",
       "  'title': 'Alessia Cara & John Mayer - Gravity @ Dive Bar Tour'}]"
      ]
     },
     "execution_count": 66,
     "metadata": {},
     "output_type": "execute_result"
    }
   ],
   "source": [
    "img_urls = [img.attrs.get('data-thumb') if img.attrs.get('data-thumb') else img['src'] for img in imgs]\n",
    "\n",
    "out = list(zip(l, [{'img': src} for src in img_urls], [{'length': a.text} for a in length]))\n",
    "out = [dict(**ele[0], **ele[1], **ele[2]) for ele in out]\n",
    "\n",
    "print(len(out))\n",
    "out"
   ]
  },
  {
   "cell_type": "markdown",
   "metadata": {},
   "source": [
    "## try get pagination"
   ]
  },
  {
   "cell_type": "code",
   "execution_count": 102,
   "metadata": {},
   "outputs": [
    {
     "name": "stdout",
     "output_type": "stream",
     "text": [
      "2 /results?q=john+mayer&sp=SBTqAwA%253D\n",
      "3 /results?q=john+mayer&sp=SCjqAwA%253D\n",
      "4 /results?q=john+mayer&sp=SDzqAwA%253D\n",
      "5 /results?q=john+mayer&sp=SFDqAwA%253D\n",
      "6 /results?q=john+mayer&sp=SGTqAwA%253D\n",
      "7 /results?q=john+mayer&sp=SHjqAwA%253D\n",
      "下一頁 » /results?q=john+mayer&sp=SBTqAwA%253D\n",
      "\n",
      "# pagination:\n",
      " {'2': '/results?q=john+mayer&sp=SBTqAwA%253D', '4': '/results?q=john+mayer&sp=SDzqAwA%253D', '3': '/results?q=john+mayer&sp=SCjqAwA%253D', '6': '/results?q=john+mayer&sp=SGTqAwA%253D', '5': '/results?q=john+mayer&sp=SFDqAwA%253D', '7': '/results?q=john+mayer&sp=SHjqAwA%253D'}\n"
     ]
    }
   ],
   "source": [
    "def is_pagination_button(tag):\n",
    "    return tag.has_attr('aria-label')\n",
    "    \n",
    "pages_tag = soup.select('a.yt-uix-button.yt-uix-sessionlink.yt-uix-button-default.yt-uix-button-size-default')\n",
    "pages = list(filter(is_pagination_button, pages_tag))\n",
    "\n",
    "for page in pages:\n",
    "    print(page.text, page.get('href'))\n",
    "    \n",
    "pagination = {page.text: page.get('href') for page in pages}\n",
    "pagination = {k:v for (k,v) in pagination.items() if re.match(r'^\\d+$', k)}\n",
    "print('\\n# pagination:\\n', pagination)"
   ]
  },
  {
   "cell_type": "markdown",
   "metadata": {},
   "source": [
    "## Refactor"
   ]
  },
  {
   "cell_type": "code",
   "execution_count": 71,
   "metadata": {
    "ExecuteTime": {
     "end_time": "2017-08-04T00:45:25.737781Z",
     "start_time": "2017-08-04T00:45:25.726594Z"
    },
    "collapsed": true
   },
   "outputs": [],
   "source": [
    "def search_soup(search):\n",
    "    urllib.parse.quote(search)\n",
    "    res = requests.get('https://www.youtube.com/results?search_query={}'.format(search))\n",
    "    soup = BeautifulSoup(res.content, 'lxml')\n",
    "    return soup"
   ]
  },
  {
   "cell_type": "code",
   "execution_count": 95,
   "metadata": {
    "ExecuteTime": {
     "end_time": "2017-08-04T00:55:08.659935Z",
     "start_time": "2017-08-04T00:55:08.632568Z"
    },
    "collapsed": true
   },
   "outputs": [],
   "source": [
    "def find_video_(soup):\n",
    "    length = soup.select('.video-time')\n",
    "    titles = soup.select('.yt-lockup-video .yt-ui-ellipsis-2.spf-link')\n",
    "    imgs = soup.select('.contains-addto img')\n",
    "    \n",
    "    l = [{\n",
    "        'title': el['title'],\n",
    "        'link': 'https://www.youtube.com{}'.format(el['href'])}\n",
    "        for el in titles]\n",
    "    \n",
    "    img_urls = [img.attrs.get('data-thumb') \n",
    "                if img.attrs.get('data-thumb')\n",
    "                else img['src']\n",
    "                for img in imgs]\n",
    "    out = list(zip(l, [{'img': src} for src in img_urls],\n",
    "                   [{'length': a.text} for a in length]))\n",
    "    out = [dict(**ele[0], **ele[1], **ele[2]) for ele in out]\n",
    "    \n",
    "    return out"
   ]
  },
  {
   "cell_type": "code",
   "execution_count": 68,
   "metadata": {
    "ExecuteTime": {
     "end_time": "2017-08-04T00:45:13.592455Z",
     "start_time": "2017-08-04T00:45:13.578025Z"
    },
    "collapsed": true
   },
   "outputs": [],
   "source": [
    "def page_bar(soup):\n",
    "    def is_pagination_button(tag):\n",
    "        return tag.has_attr('aria-label')\n",
    "    \n",
    "    pages_tag = soup.select('a.yt-uix-button.yt-uix-sessionlink.yt-uix-button-default.yt-uix-button-size-default')\n",
    "    pages = list(filter(is_pagination_button, pages_tag))\n",
    "\n",
    "    pagination = {page.text: page.get('href') for page in pages}\n",
    "    return {k:v for (k,v) in pagination.items() if re.match(r'^\\d+$', k)}"
   ]
  },
  {
   "cell_type": "code",
   "execution_count": 69,
   "metadata": {
    "ExecuteTime": {
     "end_time": "2017-08-04T00:45:14.123026Z",
     "start_time": "2017-08-04T00:45:14.102717Z"
    },
    "collapsed": true
   },
   "outputs": [],
   "source": [
    "def download_mp3(url):\n",
    "    ydl_opts = {\n",
    "        'outtmpl': 'media/%(title)s-%(id)s.%(ext)s',\n",
    "        'format': 'bestaudio/best',\n",
    "        'postprocessors': [{\n",
    "            'key': 'FFmpegExtractAudio',\n",
    "            'preferredcodec': 'mp3',\n",
    "            'preferredquality': '320',\n",
    "        }]\n",
    "    }\n",
    "    \n",
    "    with youtube_dl.YoutubeDL(ydl_opts) as ydl:\n",
    "        ydl.download([url])\n",
    "\n",
    "\n",
    "def download_mp4(url):\n",
    "    ydl_opts = {}\n",
    "    with youtube_dl.YoutubeDL(ydl_opts) as ydl:\n",
    "        ydl.download([url])"
   ]
  },
  {
   "cell_type": "markdown",
   "metadata": {},
   "source": [
    "## try functions"
   ]
  },
  {
   "cell_type": "code",
   "execution_count": 86,
   "metadata": {
    "ExecuteTime": {
     "end_time": "2017-08-04T00:52:46.952753Z",
     "start_time": "2017-08-04T00:52:44.763605Z"
    }
   },
   "outputs": [],
   "source": [
    "soup = search_soup('john mayer')"
   ]
  },
  {
   "cell_type": "code",
   "execution_count": 96,
   "metadata": {
    "ExecuteTime": {
     "end_time": "2017-08-04T00:55:13.699778Z",
     "start_time": "2017-08-04T00:55:13.672585Z"
    },
    "scrolled": true
   },
   "outputs": [
    {
     "name": "stdout",
     "output_type": "stream",
     "text": [
      "0 {'length': '1:37:19', 'title': 'John Mayer Greatest Hits   Collection HD HQ', 'img': 'https://i.ytimg.com/vi/_oNIwG2zTRo/hqdefault.jpg?sqp=-oaymwEXCPYBEIoBSFryq4qpAwkIARUAAIhCGAE=&rs=AOn4CLANTlPQ4m04T1HU5JSrWznVviHU9Q', 'link': 'https://www.youtube.com/watch?v=_oNIwG2zTRo'}\n",
      "1 {'length': '4:11', 'title': 'John Mayer - Still Feel Like Your Man', 'img': 'https://i.ytimg.com/vi/NyCst7We6Uw/hqdefault.jpg?sqp=-oaymwEXCPYBEIoBSFryq4qpAwkIARUAAIhCGAE=&rs=AOn4CLDfw37e59EYuOzNZoCraCzcHNnawQ', 'link': 'https://www.youtube.com/watch?v=NyCst7We6Uw'}\n",
      "2 {'length': '1:22:28', 'title': 'Bud Light Dive Bar Tour with John Mayer - Los Angeles - July 26th, 2017', 'img': 'https://i.ytimg.com/vi/lm1hKAJBY18/hqdefault.jpg?sqp=-oaymwEXCPYBEIoBSFryq4qpAwkIARUAAIhCGAE=&rs=AOn4CLB4-egqfvtsba7eH4xN0UaW3E1Mkg', 'link': 'https://www.youtube.com/watch?v=lm1hKAJBY18'}\n",
      "3 {'length': '4:03', 'title': 'John Mayer - Rosie (Audio)', 'img': 'https://i.ytimg.com/vi/Np7A1bT3lrg/hqdefault.jpg?sqp=-oaymwEXCPYBEIoBSFryq4qpAwkIARUAAIhCGAE=&rs=AOn4CLDQczE0IYO043pcXA9Bljs_M5eP4w', 'link': 'https://www.youtube.com/watch?v=Np7A1bT3lrg'}\n",
      "4 {'length': '4:24', 'title': 'John Mayer - Moving On and Getting Over (Audio)', 'img': 'https://i.ytimg.com/vi/Z0wBrJHd9-A/hqdefault.jpg?sqp=-oaymwEXCPYBEIoBSFryq4qpAwkIARUAAIhCGAE=&rs=AOn4CLClkn8fySuZjOk9BhCziG_gPP2zNA', 'link': 'https://www.youtube.com/watch?v=Z0wBrJHd9-A'}\n",
      "5 {'length': '4:03', 'title': \"John Mayer - Free Fallin' (Live at the Nokia Theatre)\", 'img': 'https://i.ytimg.com/vi/20Ov0cDPZy8/hqdefault.jpg?sqp=-oaymwEXCPYBEIoBSFryq4qpAwkIARUAAIhCGAE=&rs=AOn4CLDpqjOLgWf-vZjM9hi8SF29KGuAYw', 'link': 'https://www.youtube.com/watch?v=20Ov0cDPZy8'}\n",
      "6 {'length': '3:11', 'title': \"John Mayer - You're Gonna Live Forever in Me (Audio)\", 'img': 'https://i.ytimg.com/vi/08Ndzf5-HxI/hqdefault.jpg?sqp=-oaymwEXCPYBEIoBSFryq4qpAwkIARUAAIhCGAE=&rs=AOn4CLCD3Bbz_9gcUELvOQC8ArByVP0KZw', 'link': 'https://www.youtube.com/watch?v=08Ndzf5-HxI'}\n",
      "7 {'length': '6:20', 'title': 'John Mayer - Slow Dancing In A Burning Room [HD]', 'img': 'https://i.ytimg.com/vi/ncijv1WCnVk/hqdefault.jpg?sqp=-oaymwEXCPYBEIoBSFryq4qpAwkIARUAAIhCGAE=&rs=AOn4CLB_iCzm9FxMbmm-tiSHK4xPmA-5ew', 'link': 'https://www.youtube.com/watch?v=ncijv1WCnVk'}\n",
      "8 {'length': '9:44', 'title': 'John Mayer - Gravity [HD]', 'img': 'https://i.ytimg.com/vi/Fo4746XZgw8/hqdefault.jpg?sqp=-oaymwEXCPYBEIoBSFryq4qpAwkIARUAAIhCGAE=&rs=AOn4CLBiFCQovd6MDFvFtIEoA5_sjoje2w', 'link': 'https://www.youtube.com/watch?v=Fo4746XZgw8'}\n",
      "9 {'length': '43:26', 'title': 'John Mayer - The Search For Everything (Full Album)', 'img': 'https://i.ytimg.com/vi/ngzFRAWIsNc/hqdefault.jpg?sqp=-oaymwEXCPYBEIoBSFryq4qpAwkIARUAAIhCGAE=&rs=AOn4CLD3HZW8mZZriRiAoLg2O6zGzvCXyg', 'link': 'https://www.youtube.com/watch?v=ngzFRAWIsNc'}\n",
      "10 {'length': '3:25', 'title': 'John Mayer - Something Like Olivia', 'img': 'https://i.ytimg.com/vi/izkqPdVAdL4/hqdefault.jpg?sqp=-oaymwEXCPYBEIoBSFryq4qpAwkIARUAAIhCGAE=&rs=AOn4CLBr22by3UCeCdzcNzielftGipXYFw', 'link': 'https://www.youtube.com/watch?v=izkqPdVAdL4'}\n",
      "11 {'length': '3:59', 'title': 'John Mayer - Still Feel Like Your Man (Audio)', 'img': 'https://i.ytimg.com/vi/SmYa7pYHU00/hqdefault.jpg?sqp=-oaymwEXCPYBEIoBSFryq4qpAwkIARUAAIhCGAE=&rs=AOn4CLBWnB3NYt6VfXtrNRJqbYJ7yLzJEQ', 'link': 'https://www.youtube.com/watch?v=SmYa7pYHU00'}\n",
      "12 {'length': '3:34', 'title': 'John Mayer - Love on the Weekend (Audio)', 'img': 'https://i.ytimg.com/vi/ZzqLtnBc1dg/hqdefault.jpg?sqp=-oaymwEXCPYBEIoBSFryq4qpAwkIARUAAIhCGAE=&rs=AOn4CLDPMCTpCOWvamMtH-5GzDtpSx9Abg', 'link': 'https://www.youtube.com/watch?v=ZzqLtnBc1dg'}\n",
      "13 {'length': '4:15', 'title': \"John Mayer Performs 'Moving On and Getting Over'!\", 'img': 'https://i.ytimg.com/vi/96pDYEp9QIA/hqdefault.jpg?sqp=-oaymwEXCPYBEIoBSFryq4qpAwkIARUAAIhCGAE=&rs=AOn4CLCjY4ADEsQms6G2p2NtRSNRvdbXNQ', 'link': 'https://www.youtube.com/watch?v=96pDYEp9QIA'}\n",
      "14 {'length': '4:06', 'title': 'John Mayer - In the Blood (Audio)', 'img': 'https://i.ytimg.com/vi/ob-jS7bqYgI/hqdefault.jpg?sqp=-oaymwEXCPYBEIoBSFryq4qpAwkIARUAAIhCGAE=&rs=AOn4CLCRiy_yRcWnq_HJebJoYTCHcmmrlw', 'link': 'https://www.youtube.com/watch?v=ob-jS7bqYgI'}\n",
      "15 {'length': '6:54', 'title': 'Alessia Cara & John Mayer - Gravity @ Dive Bar Tour', 'img': 'https://i.ytimg.com/vi/UY7FpJbODvE/hqdefault.jpg?sqp=-oaymwEXCPYBEIoBSFryq4qpAwkIARUAAIhCGAE=&rs=AOn4CLAM2rrCVHEc1Op2n2U8UgFTxHsg-A', 'link': 'https://www.youtube.com/watch?v=UY7FpJbODvE'}\n",
      "16 {'length': '5:48', 'title': 'John Mayer - Neon (legendado) [Live in LA]', 'img': 'https://i.ytimg.com/vi/NLDjw4M_578/hqdefault.jpg?sqp=-oaymwEXCPYBEIoBSFryq4qpAwkIARUAAIhCGAE=&rs=AOn4CLCr-7XCly2G6rVwXV18hGtSasI8mQ', 'link': 'https://www.youtube.com/watch?v=NLDjw4M_578'}\n"
     ]
    }
   ],
   "source": [
    "res = find_video_(soup)\n",
    "for _, r in enumerate(res):\n",
    "    print(_, r)"
   ]
  },
  {
   "cell_type": "code",
   "execution_count": 93,
   "metadata": {
    "ExecuteTime": {
     "end_time": "2017-08-04T00:53:34.224890Z",
     "start_time": "2017-08-04T00:53:34.211162Z"
    }
   },
   "outputs": [
    {
     "data": {
      "text/plain": [
       "{'2': '/results?sp=SBRQFOoDAA%253D%253D&q=john+mayer',\n",
       " '3': '/results?sp=SChQFOoDAA%253D%253D&q=john+mayer',\n",
       " '4': '/results?sp=SDxQFOoDAA%253D%253D&q=john+mayer',\n",
       " '5': '/results?sp=SFBQFOoDAA%253D%253D&q=john+mayer',\n",
       " '6': '/results?sp=SGRQFOoDAA%253D%253D&q=john+mayer',\n",
       " '7': '/results?sp=SHhQFOoDAA%253D%253D&q=john+mayer'}"
      ]
     },
     "execution_count": 93,
     "metadata": {},
     "output_type": "execute_result"
    }
   ],
   "source": [
    "page_bar(soup)"
   ]
  },
  {
   "cell_type": "code",
   "execution_count": null,
   "metadata": {
    "collapsed": true
   },
   "outputs": [],
   "source": []
  }
 ],
 "metadata": {
  "anaconda-cloud": {},
  "kernelspec": {
   "display_name": "Python [conda root]",
   "language": "python",
   "name": "conda-root-py"
  },
  "language_info": {
   "codemirror_mode": {
    "name": "ipython",
    "version": 3
   },
   "file_extension": ".py",
   "mimetype": "text/x-python",
   "name": "python",
   "nbconvert_exporter": "python",
   "pygments_lexer": "ipython3",
   "version": "3.5.3"
  }
 },
 "nbformat": 4,
 "nbformat_minor": 2
}
