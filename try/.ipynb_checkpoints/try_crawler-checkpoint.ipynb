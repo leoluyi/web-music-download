{
 "cells": [
  {
   "cell_type": "code",
   "execution_count": 118,
   "metadata": {
    "collapsed": false
   },
   "outputs": [],
   "source": [
    "import requests\n",
    "from bs4 import BeautifulSoup\n",
    "import regex as re\n",
    "import youtube_dl\n",
    "import urllib"
   ]
  },
  {
   "cell_type": "code",
   "execution_count": 2,
   "metadata": {
    "collapsed": false
   },
   "outputs": [],
   "source": [
    "res = requests.get('https://www.youtube.com/results?search_query=john+mayer')"
   ]
  },
  {
   "cell_type": "code",
   "execution_count": 3,
   "metadata": {
    "collapsed": false
   },
   "outputs": [],
   "source": [
    "soup = BeautifulSoup(res.content, 'lxml')"
   ]
  },
  {
   "cell_type": "markdown",
   "metadata": {},
   "source": [
    "## try one"
   ]
  },
  {
   "cell_type": "code",
   "execution_count": 4,
   "metadata": {
    "collapsed": false
   },
   "outputs": [
    {
     "name": "stdout",
     "output_type": "stream",
     "text": [
      "<a aria-describedby=\"description-id-831061\" class=\"yt-uix-tile-link yt-ui-ellipsis yt-ui-ellipsis-2 yt-uix-sessionlink spf-link \" data-sessionlink=\"itct=CGEQ3DAYACITCO6j4LeS_NQCFVMOWAodosoPLCj0JFIKam9obiBtYXllcg\" dir=\"ltr\" href=\"/watch?v=_oNIwG2zTRo\" rel=\"spf-prefetch\" title=\"John Mayer Greatest Hits   Collection HD HQ\">John Mayer Greatest Hits   Collection HD HQ</a>\n"
     ]
    },
    {
     "data": {
      "text/plain": [
       "'https://i.ytimg.com/vi/_oNIwG2zTRo/hqdefault.jpg?sqp=-oaymwEXCPYBEIoBSFryq4qpAwkIARUAAIhCGAE=&rs=AOn4CLANTlPQ4m04T1HU5JSrWznVviHU9Q'"
      ]
     },
     "execution_count": 4,
     "metadata": {},
     "output_type": "execute_result"
    }
   ],
   "source": [
    "node = soup.select_one('.yt-lockup-video .yt-ui-ellipsis-2.spf-link')\n",
    "print(node)\n",
    "soup.select_one('#results img')['src']"
   ]
  },
  {
   "cell_type": "markdown",
   "metadata": {},
   "source": [
    "## try get all video"
   ]
  },
  {
   "cell_type": "code",
   "execution_count": 5,
   "metadata": {
    "collapsed": false
   },
   "outputs": [
    {
     "name": "stdout",
     "output_type": "stream",
     "text": [
      "18\n"
     ]
    },
    {
     "data": {
      "text/plain": [
       "'https://i.ytimg.com/vi/_oNIwG2zTRo/hqdefault.jpg?sqp=-oaymwEXCPYBEIoBSFryq4qpAwkIARUAAIhCGAE=&rs=AOn4CLANTlPQ4m04T1HU5JSrWznVviHU9Q'"
      ]
     },
     "execution_count": 5,
     "metadata": {},
     "output_type": "execute_result"
    }
   ],
   "source": [
    "titles = soup.select('.yt-lockup-video .yt-ui-ellipsis-2.spf-link'); print(len(titles))\n",
    "imgs = soup.select('.contains-addto img')\n",
    "imgs[0]['src']"
   ]
  },
  {
   "cell_type": "code",
   "execution_count": 6,
   "metadata": {
    "collapsed": false
   },
   "outputs": [
    {
     "name": "stdout",
     "output_type": "stream",
     "text": [
      "# results: 18\n",
      "1:37:19\n",
      "4:11\n",
      "4:03\n",
      "4:03\n",
      "4:24\n",
      "3:25\n",
      "6:20\n",
      "9:44\n",
      "4:17\n",
      "4:08\n",
      "4:15\n",
      "3:11\n",
      "3:34\n",
      "4:35\n",
      "3:59\n",
      "3:22\n",
      "9:19\n",
      "4:02\n"
     ]
    }
   ],
   "source": [
    "length = soup.select('.video-time')\n",
    "print('# results:', len(length))\n",
    "for e in length:\n",
    "    print(e.text)"
   ]
  },
  {
   "cell_type": "code",
   "execution_count": 7,
   "metadata": {
    "collapsed": false
   },
   "outputs": [],
   "source": [
    "l = [{\n",
    "    'title': el['title'],\n",
    "    'link': el['href']}\n",
    "    for el in titles]"
   ]
  },
  {
   "cell_type": "code",
   "execution_count": 8,
   "metadata": {
    "collapsed": false,
    "scrolled": true
   },
   "outputs": [
    {
     "data": {
      "text/plain": [
       "[{'img': 'https://i.ytimg.com/vi/_oNIwG2zTRo/hqdefault.jpg?sqp=-oaymwEXCPYBEIoBSFryq4qpAwkIARUAAIhCGAE=&rs=AOn4CLANTlPQ4m04T1HU5JSrWznVviHU9Q',\n",
       "  'length': '1:37:19',\n",
       "  'link': '/watch?v=_oNIwG2zTRo',\n",
       "  'title': 'John Mayer Greatest Hits   Collection HD HQ'},\n",
       " {'img': 'https://i.ytimg.com/vi/NyCst7We6Uw/hqdefault.jpg?sqp=-oaymwEXCPYBEIoBSFryq4qpAwkIARUAAIhCGAE=&rs=AOn4CLDfw37e59EYuOzNZoCraCzcHNnawQ',\n",
       "  'length': '4:11',\n",
       "  'link': '/watch?v=NyCst7We6Uw',\n",
       "  'title': 'John Mayer - Still Feel Like Your Man'},\n",
       " {'img': 'https://i.ytimg.com/vi/Np7A1bT3lrg/hqdefault.jpg?sqp=-oaymwEXCPYBEIoBSFryq4qpAwkIARUAAIhCGAE=&rs=AOn4CLDQczE0IYO043pcXA9Bljs_M5eP4w',\n",
       "  'length': '4:03',\n",
       "  'link': '/watch?v=Np7A1bT3lrg',\n",
       "  'title': 'John Mayer - Rosie (Audio)'},\n",
       " {'img': 'https://i.ytimg.com/vi/20Ov0cDPZy8/hqdefault.jpg?sqp=-oaymwEXCPYBEIoBSFryq4qpAwkIARUAAIhCGAE=&rs=AOn4CLDpqjOLgWf-vZjM9hi8SF29KGuAYw',\n",
       "  'length': '4:03',\n",
       "  'link': '/watch?v=20Ov0cDPZy8',\n",
       "  'title': \"John Mayer - Free Fallin' (Live at the Nokia Theatre)\"},\n",
       " {'img': 'https://i.ytimg.com/vi/Z0wBrJHd9-A/hqdefault.jpg?sqp=-oaymwEXCPYBEIoBSFryq4qpAwkIARUAAIhCGAE=&rs=AOn4CLClkn8fySuZjOk9BhCziG_gPP2zNA',\n",
       "  'length': '4:24',\n",
       "  'link': '/watch?v=Z0wBrJHd9-A',\n",
       "  'title': 'John Mayer - Moving On and Getting Over (Audio)'},\n",
       " {'img': '/yts/img/pixel-vfl3z5WfW.gif',\n",
       "  'length': '3:25',\n",
       "  'link': '/watch?v=izkqPdVAdL4',\n",
       "  'title': 'John Mayer - Something Like Olivia'},\n",
       " {'img': '/yts/img/pixel-vfl3z5WfW.gif',\n",
       "  'length': '6:20',\n",
       "  'link': '/watch?v=ncijv1WCnVk',\n",
       "  'title': 'John Mayer - Slow Dancing In A Burning Room [HD]'},\n",
       " {'img': '/yts/img/pixel-vfl3z5WfW.gif',\n",
       "  'length': '9:44',\n",
       "  'link': '/watch?v=Fo4746XZgw8',\n",
       "  'title': 'John Mayer - Gravity [HD]'},\n",
       " {'img': '/yts/img/pixel-vfl3z5WfW.gif',\n",
       "  'length': '4:17',\n",
       "  'link': '/watch?v=N5EnGwXV_Pg',\n",
       "  'title': 'John Mayer - Your Body Is A Wonderland'},\n",
       " {'img': '/yts/img/pixel-vfl3z5WfW.gif',\n",
       "  'length': '4:08',\n",
       "  'link': '/watch?v=dWPGCssnq3E',\n",
       "  'title': \"Ed Sheeran / John Mayer - Don't [Late Late Show 2015]\"},\n",
       " {'img': '/yts/img/pixel-vfl3z5WfW.gif',\n",
       "  'length': '4:15',\n",
       "  'link': '/watch?v=96pDYEp9QIA',\n",
       "  'title': \"John Mayer Performs 'Moving On and Getting Over'!\"},\n",
       " {'img': '/yts/img/pixel-vfl3z5WfW.gif',\n",
       "  'length': '3:11',\n",
       "  'link': '/watch?v=08Ndzf5-HxI',\n",
       "  'title': \"John Mayer - You're Gonna Live Forever in Me (Audio)\"},\n",
       " {'img': '/yts/img/pixel-vfl3z5WfW.gif',\n",
       "  'length': '3:34',\n",
       "  'link': '/watch?v=ZzqLtnBc1dg',\n",
       "  'title': 'John Mayer - Love on the Weekend (Audio)'},\n",
       " {'img': '/yts/img/pixel-vfl3z5WfW.gif',\n",
       "  'length': '4:35',\n",
       "  'link': '/watch?v=GeCClzNCfcA',\n",
       "  'title': 'John Mayer - Heartbreak Warfare'},\n",
       " {'img': '/yts/img/pixel-vfl3z5WfW.gif',\n",
       "  'length': '3:59',\n",
       "  'link': '/watch?v=SmYa7pYHU00',\n",
       "  'title': 'John Mayer - Still Feel Like Your Man (Audio)'},\n",
       " {'img': '/yts/img/pixel-vfl3z5WfW.gif',\n",
       "  'length': '3:22',\n",
       "  'link': '/watch?v=oBIxScJ5rlY',\n",
       "  'title': 'John Mayer - Waiting On the World to Change'},\n",
       " {'img': '/yts/img/pixel-vfl3z5WfW.gif',\n",
       "  'length': '9:19',\n",
       "  'link': '/watch?v=pCOS1dujl0A',\n",
       "  'title': \"Alicia Keys & John Mayer - If I ain't got you - Gravity (Good Quality)\"},\n",
       " {'img': '/yts/img/pixel-vfl3z5WfW.gif',\n",
       "  'length': '4:02',\n",
       "  'link': '/watch?v=aojTGWAqUIQ',\n",
       "  'title': 'John Mayer - Half of My Heart'}]"
      ]
     },
     "execution_count": 8,
     "metadata": {},
     "output_type": "execute_result"
    }
   ],
   "source": [
    "out = list(zip(l, [{'img': a['src']} for a in imgs], [{'length': a.text} for a in length]))\n",
    "out = [dict(**ele[0], **ele[1], **ele[2]) for ele in out]\n",
    "out"
   ]
  },
  {
   "cell_type": "markdown",
   "metadata": {},
   "source": [
    "## try get pagination"
   ]
  },
  {
   "cell_type": "code",
   "execution_count": 102,
   "metadata": {
    "collapsed": false
   },
   "outputs": [
    {
     "name": "stdout",
     "output_type": "stream",
     "text": [
      "2 /results?q=john+mayer&sp=SBTqAwA%253D\n",
      "3 /results?q=john+mayer&sp=SCjqAwA%253D\n",
      "4 /results?q=john+mayer&sp=SDzqAwA%253D\n",
      "5 /results?q=john+mayer&sp=SFDqAwA%253D\n",
      "6 /results?q=john+mayer&sp=SGTqAwA%253D\n",
      "7 /results?q=john+mayer&sp=SHjqAwA%253D\n",
      "下一頁 » /results?q=john+mayer&sp=SBTqAwA%253D\n",
      "\n",
      "# pagination:\n",
      " {'2': '/results?q=john+mayer&sp=SBTqAwA%253D', '4': '/results?q=john+mayer&sp=SDzqAwA%253D', '3': '/results?q=john+mayer&sp=SCjqAwA%253D', '6': '/results?q=john+mayer&sp=SGTqAwA%253D', '5': '/results?q=john+mayer&sp=SFDqAwA%253D', '7': '/results?q=john+mayer&sp=SHjqAwA%253D'}\n"
     ]
    }
   ],
   "source": [
    "def is_pagination_button(tag):\n",
    "    return tag.has_attr('aria-label')\n",
    "    \n",
    "pages_tag = soup.select('a.yt-uix-button.yt-uix-sessionlink.yt-uix-button-default.yt-uix-button-size-default')\n",
    "pages = list(filter(is_pagination_button, pages_tag))\n",
    "\n",
    "for page in pages:\n",
    "    print(page.text, page.get('href'))\n",
    "    \n",
    "pagination = {page.text: page.get('href') for page in pages}\n",
    "pagination = {k:v for (k,v) in pagination.items() if re.match(r'^\\d+$', k)}\n",
    "print('\\n# pagination:\\n', pagination)"
   ]
  },
  {
   "cell_type": "markdown",
   "metadata": {
    "collapsed": false
   },
   "source": [
    "## Refactor"
   ]
  },
  {
   "cell_type": "code",
   "execution_count": 23,
   "metadata": {
    "collapsed": true
   },
   "outputs": [],
   "source": [
    "def search_soup(search):\n",
    "    urllib.parse.quote(search)\n",
    "    res = requests.get('https://www.youtube.com/results?search_query={}'.format(search))\n",
    "    soup = BeautifulSoup(res.content, 'lxml')\n",
    "    return soup"
   ]
  },
  {
   "cell_type": "code",
   "execution_count": 105,
   "metadata": {
    "collapsed": true
   },
   "outputs": [],
   "source": [
    "def find_video_(soup):\n",
    "    node = soup.select_one('.yt-lockup-video .yt-ui-ellipsis-2.spf-link')\n",
    "    titles = soup.select('.yt-lockup-video .yt-ui-ellipsis-2.spf-link')\n",
    "    imgs = soup.select('.contains-addto img')\n",
    "    \n",
    "    l = [{\n",
    "    'title': el['title'],\n",
    "    'link': el['href']}\n",
    "    for el in titles]\n",
    "    \n",
    "    out = list(zip(l, [{'img': a['src']} for a in imgs], [{'length': a.text} for a in length]))\n",
    "    out = [dict(**ele[0], **ele[1], **ele[2]) for ele in out]\n",
    "    \n",
    "    return out"
   ]
  },
  {
   "cell_type": "code",
   "execution_count": 114,
   "metadata": {
    "collapsed": true
   },
   "outputs": [],
   "source": [
    "def page_bar(soup):\n",
    "    def is_pagination_button(tag):\n",
    "        return tag.has_attr('aria-label')\n",
    "    \n",
    "    pages_tag = soup.select('a.yt-uix-button.yt-uix-sessionlink.yt-uix-button-default.yt-uix-button-size-default')\n",
    "    pages = list(filter(is_pagination_button, pages_tag))\n",
    "\n",
    "    pagination = {page.text: page.get('href') for page in pages}\n",
    "    return {k:v for (k,v) in pagination.items() if re.match(r'^\\d+$', k)}"
   ]
  },
  {
   "cell_type": "code",
   "execution_count": null,
   "metadata": {
    "collapsed": true
   },
   "outputs": [],
   "source": [
    "def download_mp3(url):\n",
    "    ydl_opts = {\n",
    "        'outtmpl': 'media/%(title)s-%(id)s.%(ext)s',\n",
    "        'format': 'bestaudio/best',\n",
    "        'postprocessors': [{\n",
    "            'key': 'FFmpegExtractAudio',\n",
    "            'preferredcodec': 'mp3',\n",
    "            'preferredquality': '320',\n",
    "        }]\n",
    "    }\n",
    "    \n",
    "    with youtube_dl.YoutubeDL(ydl_opts) as ydl:\n",
    "        ydl.download(['https://www.youtube.com/watch?v=lVbyWunzpzU'])\n"
   ]
  },
  {
   "cell_type": "markdown",
   "metadata": {},
   "source": [
    "## try functions"
   ]
  },
  {
   "cell_type": "code",
   "execution_count": 106,
   "metadata": {
    "collapsed": true
   },
   "outputs": [],
   "source": [
    "soup = search_soup('john mayer')"
   ]
  },
  {
   "cell_type": "code",
   "execution_count": 111,
   "metadata": {
    "collapsed": false,
    "scrolled": true
   },
   "outputs": [
    {
     "name": "stdout",
     "output_type": "stream",
     "text": [
      "{'link': '/watch?v=Np7A1bT3lrg', 'img': 'https://i.ytimg.com/vi/Np7A1bT3lrg/hqdefault.jpg?sqp=-oaymwEXCPYBEIoBSFDyq4qpAwkIARUAAIZCGAE=&rs=AOn4CLCNxEhcTrvT4qQfSTIYsBeatk9neg', 'length': '4:03', 'title': 'John Mayer - Rosie (Audio)'}\n"
     ]
    }
   ],
   "source": [
    "res = find_video_(soup)\n",
    "print(res[2])"
   ]
  },
  {
   "cell_type": "code",
   "execution_count": 115,
   "metadata": {
    "collapsed": false
   },
   "outputs": [
    {
     "data": {
      "text/plain": [
       "{'2': '/results?sp=SBTqAwA%253D&q=john+mayer',\n",
       " '3': '/results?sp=SCjqAwA%253D&q=john+mayer',\n",
       " '4': '/results?sp=SDzqAwA%253D&q=john+mayer',\n",
       " '5': '/results?sp=SFDqAwA%253D&q=john+mayer',\n",
       " '6': '/results?sp=SGTqAwA%253D&q=john+mayer',\n",
       " '7': '/results?sp=SHjqAwA%253D&q=john+mayer'}"
      ]
     },
     "execution_count": 115,
     "metadata": {},
     "output_type": "execute_result"
    }
   ],
   "source": [
    "page_bar(soup)"
   ]
  },
  {
   "cell_type": "code",
   "execution_count": null,
   "metadata": {
    "collapsed": true
   },
   "outputs": [],
   "source": []
  }
 ],
 "metadata": {
  "anaconda-cloud": {},
  "kernelspec": {
   "display_name": "Python [conda root]",
   "language": "python",
   "name": "conda-root-py"
  },
  "language_info": {
   "codemirror_mode": {
    "name": "ipython",
    "version": 3
   },
   "file_extension": ".py",
   "mimetype": "text/x-python",
   "name": "python",
   "nbconvert_exporter": "python",
   "pygments_lexer": "ipython3",
   "version": "3.5.2"
  }
 },
 "nbformat": 4,
 "nbformat_minor": 2
}
